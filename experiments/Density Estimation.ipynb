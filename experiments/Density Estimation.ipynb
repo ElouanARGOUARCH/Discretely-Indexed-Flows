{
 "cells": [
  {
   "cell_type": "code",
   "execution_count": 1,
   "metadata": {},
   "outputs": [],
   "source": [
    "import sys \n",
    "sys.path.append('..')\n",
    "\n",
    "from models import DIFDensityEstimator,SoftmaxWeight,LocationScaleFlow\n",
    "from targets import DensityEstimationTarget\n",
    "%load_ext autoreload\n",
    "%autoreload 2\n",
    "import torch\n",
    "import matplotlib.pyplot as plt"
   ]
  },
  {
   "cell_type": "code",
   "execution_count": 2,
   "metadata": {},
   "outputs": [],
   "source": [
    "from matplotlib.colors import ListedColormap\n",
    "import numpy as np\n",
    "N = 256\n",
    "orange = np.ones((N, 4))\n",
    "orange[:, 0] = np.geomspace(255 / 256, 1, N)  # R = 255\n",
    "orange[:, 1] = np.geomspace(165 / 256, 1, N)  # G = 165\n",
    "orange[:, 2] = np.geomspace(0.001 / 256, 1, N)  # B = 0\n",
    "orange_cmap = ListedColormap(orange[::-1])\n",
    "\n",
    "orange_color = \"#FFA500\"\n",
    "\n",
    "red = np.ones((N, 4))\n",
    "red[:, 0] = np.geomspace(255 / 256, 1, N)  # R = 255\n",
    "red[:, 1] = np.geomspace(0.001 / 256, 1, N)  # G = 0\n",
    "red[:, 2] = np.geomspace(0.001 / 256, 1, N)  # B = 0\n",
    "red_cmap = ListedColormap(red[::-1])\n",
    "\n",
    "red_color = \"#FF0000\"\n",
    "\n",
    "blue = np.ones((N, 4))\n",
    "blue[:, 0] = np.geomspace(0.001 / 256, 1, N)  # R = 0\n",
    "blue[:, 1] = np.geomspace(0.001 / 256, 1, N)  # G = 0\n",
    "blue[:, 2] = np.geomspace(255 / 256, 1, N)  # B = 255\n",
    "blue_cmap = ListedColormap(blue[::-1])\n",
    "\n",
    "blue_color = \"#0000FF\"\n",
    "\n",
    "green = np.ones((N, 4))\n",
    "green[:, 0] = np.geomspace(0.001 / 256, 1, N)  # R = 0\n",
    "green[:, 1] = np.geomspace(128 / 256, 1, N)  # G = 128\n",
    "green[:, 2] = np.geomspace(0.001 / 256, 1, N)  # B = 128\n",
    "green_cmap = ListedColormap(green[::-1])\n",
    "\n",
    "green_color = \"#008000\"\n",
    "\n",
    "pink = np.ones((N, 4))\n",
    "pink[:, 0] = np.geomspace(255 / 256, 1, N)  # R = 255\n",
    "pink[:, 1] = np.geomspace(0.001 / 256, 1, N)  # G = 0\n",
    "pink[:, 2] = np.geomspace(211 / 256, 1, N)  # B = 211\n",
    "pink_cmap = ListedColormap(pink[::-1])\n",
    "\n",
    "pink_color = \"#FF00D3\"\n",
    "\n",
    "purple = np.ones((N, 4))\n",
    "purple[:, 0] = np.geomspace(51 / 256, 1, N)  # R = 102\n",
    "purple[:, 1] = np.geomspace(0.001 / 256, 1, N)  # G = 0\n",
    "purple[:, 2] = np.geomspace(51 / 256, 1, N)  # B = 102\n",
    "purple_cmap = ListedColormap(purple[::-1])\n",
    "\n",
    "purple_color = \"#660066\""
   ]
  },
  {
   "cell_type": "code",
   "execution_count": 3,
   "metadata": {},
   "outputs": [
    {
     "data": {
      "image/png": "[encoded data removed]",
      "text/plain": [
       "<Figure size 720x360 with 1 Axes>"
      ]
     },
     "metadata": {
      "needs_background": "light"
     },
     "output_type": "display_data"
    }
   ],
   "source": [
    "example = \"Dimension 1\"\n",
    "num_samples = 50000\n",
    "target = DensityEstimationTarget(example, num_samples)\n",
    "target.target_visual()\n",
    "target_samples = target.get_samples()"
   ]
  },
  {
   "cell_type": "code",
   "execution_count": null,
   "metadata": {},
   "outputs": [
    {
     "name": "stderr",
     "output_type": "stream",
     "text": [
      " 20%|███████████████████████████████████▊                                                                                                                                               | 40/200 [01:41<08:51,  3.32s/it, loss = 3.003451]"
     ]
    }
   ],
   "source": [
    "epochs = 200\n",
    "K = 10\n",
    "p = target_samples.shape[-1]\n",
    "dif = DIFDensityEstimator(target_samples, K)\n",
    "dif.w = SoftmaxWeight(K,p, [64,64,64])\n",
    "dif.train(epochs,5000)"
   ]
  },
  {
   "cell_type": "code",
   "execution_count": null,
   "metadata": {},
   "outputs": [],
   "source": [
    "### Visualize DIF density estimation dimension 1 ###\n",
    "\n",
    "model_to_visualize = dif\n",
    "\n",
    "import seaborn as sns\n",
    "linspace = 500\n",
    "with torch.no_grad():\n",
    "    tt = torch.linspace(torch.min(model_to_visualize.target_samples), torch.max(model_to_visualize.target_samples), linspace).unsqueeze(1)\n",
    "    model_density = torch.exp(model_to_visualize.log_density(tt))\n",
    "    model_samples = model_to_visualize.sample_model(num_samples)\n",
    "    reference_samples = model_to_visualize.reference.sample(num_samples)\n",
    "    tt_r = torch.linspace(torch.min(reference_samples), torch.max(reference_samples), linspace).unsqueeze(1)\n",
    "    reference_density = torch.exp(model_to_visualize.reference.log_density(tt_r))\n",
    "    proxy_samples = model_to_visualize.sample_latent(model_to_visualize.target_samples[:num_samples])\n",
    "fig = plt.figure(figsize=(28, 16))\n",
    "ax1 = fig.add_subplot(221)\n",
    "sns.histplot(model_to_visualize.target_samples[:, 0].cpu(),  stat=\"density\", alpha=0.5, bins=125, color=red_color,\n",
    "             label=\"Input Target Samples\")\n",
    "ax1.legend()\n",
    "\n",
    "ax2 = fig.add_subplot(222)\n",
    "sns.histplot(proxy_samples[:, 0].cpu(), stat='density', alpha=0.5, bins=125, color=orange_color,\n",
    "             label='Proxy samples')\n",
    "ax2.legend()\n",
    "\n",
    "ax3 = fig.add_subplot(223, sharex=ax1)\n",
    "ax3.plot(tt.cpu(), model_density.cpu(), color=blue_color, label=\"Output model density\")\n",
    "sns.histplot(model_samples[:, 0].cpu(), stat='density', alpha=0.5, bins=125, color=blue_color,\n",
    "             label='model samples')\n",
    "ax3.legend()\n",
    "\n",
    "ax4 = fig.add_subplot(224, sharex=ax2)\n",
    "ax4.plot(tt_r.cpu(), reference_density.cpu(), color=green_color, label='reference density')\n",
    "sns.histplot(reference_samples[:, 0].cpu(), stat='density', alpha=0.5, bins=125, color=green_color,\n",
    "             label='Reference samples')\n",
    "ax4.legend()"
   ]
  },
  {
   "cell_type": "code",
   "execution_count": null,
   "metadata": {},
   "outputs": [],
   "source": [
    "example = \"Moons\"\n",
    "num_samples = 50000\n",
    "target = DensityEstimationTarget(example, num_samples)\n",
    "target.target_visual()\n",
    "target_samples = target.get_samples()"
   ]
  },
  {
   "cell_type": "code",
   "execution_count": null,
   "metadata": {},
   "outputs": [],
   "source": [
    "epochs = 200\n",
    "K = 10\n",
    "p = target_samples.shape[-1]\n",
    "dif = DIFDensityEstimator(target_samples, K)\n",
    "dif.w = SoftmaxWeight(K,p, [64,64,64])\n",
    "dif.train(epochs,5000)"
   ]
  },
  {
   "cell_type": "code",
   "execution_count": null,
   "metadata": {},
   "outputs": [],
   "source": [
    "model_to_visualize = dif\n",
    "\n",
    "linspace = 200\n",
    "with torch.no_grad():\n",
    "    model_samples = model_to_visualize.sample_model(num_samples)\n",
    "    reference_samples = model_to_visualize.reference.sample(num_samples)\n",
    "    proxy_samples = model_to_visualize.sample_latent(model_to_visualize.target_samples[:num_samples])\n",
    "    x0_min = min([min(model_samples[:,0]), min(model_to_visualize.target_samples[:,0])])\n",
    "    x0_max = max([max(model_samples[:,0]), max(model_to_visualize.target_samples[:,0])])\n",
    "    x1_min = min([min(model_samples[:,1]), min(model_to_visualize.target_samples[:,1])])\n",
    "    x1_max = max([max(model_samples[:,1]), max(model_to_visualize.target_samples[:,1])])\n",
    "    x_grid = torch.cartesian_prod(torch.linspace(x0_min, x0_max,linspace),torch.linspace(x1_min, x1_max,linspace))\n",
    "    density_x = torch.exp(model_to_visualize.log_density(x_grid).reshape(linspace,linspace))\n",
    "    z0_min = min([min(proxy_samples[:,0]), min(reference_samples[:,0])])\n",
    "    z0_max = max([max(proxy_samples[:,0]), max(reference_samples[:,0])])\n",
    "    z1_min = min([min(proxy_samples[:,1]), min(reference_samples[:,1])])\n",
    "    z1_max = max([max(proxy_samples[:,1]), max(reference_samples[:,1])])\n",
    "    z_grid = torch.cartesian_prod(torch.linspace(z0_min, z0_max,linspace),torch.linspace(z1_min, z1_max,linspace))\n",
    "    density_z = torch.exp(model_to_visualize.reference.log_density(z_grid).reshape(linspace,linspace))\n",
    "fig = plt.figure(figsize=(28, 20))\n",
    "\n",
    "ax1 = fig.add_subplot(321)\n",
    "plt.scatter(model_to_visualize.target_samples[:, 0],model_to_visualize.target_samples[:, 1], alpha=0.5,color='red',label=\"Input Target Samples\")\n",
    "ax1.legend()\n",
    "\n",
    "ax2 = fig.add_subplot(322)\n",
    "plt.scatter(proxy_samples[:, 0],proxy_samples[:, 1],alpha=0.5, color=orange_color,label='Proxy samples')\n",
    "ax2.legend()\n",
    "\n",
    "ax3 = fig.add_subplot(323, sharex=ax1)\n",
    "ax3.scatter(model_samples[:,0], model_samples[:,1], alpha = 0.5,color=blue_color, label=\"Output model density\")\n",
    "\n",
    "ax3.legend()\n",
    "\n",
    "ax4 = fig.add_subplot(324, sharex=ax2)\n",
    "ax4.scatter(reference_samples[:, 0],reference_samples[:, 1], alpha=0.5, color=green_color,label='Reference samples')\n",
    "ax4.legend()\n",
    "\n",
    "ax5 = fig.add_subplot(325, sharex=ax2)\n",
    "ax5.pcolormesh(torch.linspace(x0_min, x0_max,linspace),torch.linspace(x1_min, x1_max,linspace), density_x.T, cmap =blue_cmap)\n",
    "ax5.legend()\n",
    "\n",
    "\n",
    "ax6 = fig.add_subplot(326, sharex=ax2)\n",
    "ax6.pcolormesh(torch.linspace(z0_min, z0_max,linspace),torch.linspace(z1_min, z1_max,linspace), density_z.T, cmap = green_cmap)\n",
    "ax6.legend()"
   ]
  },
  {
   "cell_type": "code",
   "execution_count": null,
   "metadata": {},
   "outputs": [],
   "source": []
  }
 ],
 "metadata": {
  "accelerator": "GPU",
  "colab": {
   "collapsed_sections": [],
   "name": "DUAN TMC",
   "provenance": []
  },
  "kernelspec": {
   "display_name": "Python 3",
   "language": "python",
   "name": "python3"
  },
  "language_info": {
   "codemirror_mode": {
    "name": "ipython",
    "version": 3
   },
   "file_extension": ".py",
   "mimetype": "text/x-python",
   "name": "python",
   "nbconvert_exporter": "python",
   "pygments_lexer": "ipython3",
   "version": "3.9.2"
  }
 },
 "nbformat": 4,
 "nbformat_minor": 1
}
