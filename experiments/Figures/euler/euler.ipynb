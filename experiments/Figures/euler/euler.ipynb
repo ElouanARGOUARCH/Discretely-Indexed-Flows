{
 "cells": [
  {
   "cell_type": "code",
   "execution_count": null,
   "id": "heated-substitute",
   "metadata": {},
   "outputs": [],
   "source": [
    "from matplotlib import image\n",
    "import matplotlib.pyplot as plt\n",
    "import numpy as np\n",
    "import torch\n",
    "from torch import nn\n",
    "import numpy \n",
    "\n",
    "torch.manual_seed(0)\n",
    "\n",
    "from models_dif import DIFDensityEstimator, LocationScaleFlow, SoftmaxWeight\n",
    "from models_em import EMDensityEstimator"
   ]
  },
  {
   "cell_type": "code",
   "execution_count": null,
   "id": "magnetic-blowing",
   "metadata": {},
   "outputs": [],
   "source": [
    "rgb = image.imread(\"euler.jpg\")\n",
    "figure = plt.figure(figsize = (12,8))\n",
    "plt.tick_params(left=False,bottom=False,labelleft=False,labelbottom=False)\n",
    "plt.imshow(rgb)\n",
    "lines, columns = rgb.shape[:-1]"
   ]
  },
  {
   "cell_type": "code",
   "execution_count": null,
   "id": "fatal-monaco",
   "metadata": {},
   "outputs": [],
   "source": [
    "def rgb2gray(rgb):\n",
    "    return np.dot(rgb[...,:3], [0.2989, 0.5870, 0.1140])\n",
    "grey = torch.tensor(rgb2gray(rgb))\n",
    "figure = plt.figure(figsize = (12,8))\n",
    "plt.tick_params(left=False,bottom=False,labelleft=False,labelbottom=False)\n",
    "plt.imshow(grey)"
   ]
  },
  {
   "cell_type": "code",
   "execution_count": null,
   "id": "anonymous-pricing",
   "metadata": {},
   "outputs": [],
   "source": [
    "#Sample data according to image\n",
    "vector_density = grey.flatten()\n",
    "vector_density = vector_density/torch.sum(vector_density)\n",
    "lignes, colonnes = grey.shape\n",
    "num_samples = 300000\n",
    "cat = torch.distributions.Categorical(probs = vector_density)\n",
    "categorical_samples = cat.sample([num_samples])\n",
    "target_samples = torch.cat([(categorical_samples//colonnes).unsqueeze(-1), (categorical_samples%colonnes).unsqueeze(-1)], dim = -1) + torch.rand([num_samples,2])"
   ]
  },
  {
   "cell_type": "code",
   "execution_count": null,
   "id": "signed-medium",
   "metadata": {},
   "outputs": [],
   "source": [
    "hist_target_samples, x_edges, y_edges = numpy.histogram2d(target_samples[:,1].numpy(), target_samples[:, 0].numpy(), bins = (lines, columns),range = [[0, columns],[0,lines]])\n",
    "figure = plt.figure(figsize = (12,8))\n",
    "plt.tick_params(left=False,bottom=False,labelleft=False,labelbottom=False)\n",
    "plt.imshow(torch.flip(torch.flip(torch.tensor(hist_target_samples).T,[0,1]),[0,1]),extent = [0,columns,0, lines])"
   ]
  },
  {
   "cell_type": "code",
   "execution_count": null,
   "id": "bb23f186",
   "metadata": {},
   "outputs": [],
   "source": [
    "#Run EM\n",
    "linspace_x = 7\n",
    "linspace_y = 7\n",
    "K = linspace_x * linspace_y\n",
    "EM = EMDensityEstimator(target_samples,K)\n",
    "EM.m = torch.cartesian_prod(torch.linspace(0, lignes,linspace_x),torch.linspace(0, colonnes, linspace_y))\n",
    "EM.train(50)"
   ]
  },
  {
   "cell_type": "code",
   "execution_count": null,
   "id": "4cc71dc9",
   "metadata": {},
   "outputs": [],
   "source": [
    "with torch.no_grad():\n",
    "    grid = torch.cartesian_prod(torch.linspace(0,lines,2*lines),torch.linspace(0,columns, 2*columns))\n",
    "    density = torch.exp(EM.log_density(grid)).reshape(2*lines,2*columns).T\n",
    "    figure = plt.figure(figsize = (12,8))\n",
    "    plt.tick_params(left=False,bottom=False,labelleft=False,labelbottom=False)\n",
    "    plt.imshow(torch.flip(torch.flip(density.T,[0,1]),[0,1]),extent = [0,columns,0, lines])\n",
    "    dif_samples = EM.sample_model(target_samples.shape[0])\n",
    "    hist_dif_samples, x_edges, y_edges = numpy.histogram2d(dif_samples[:,1].numpy(), dif_samples[:, 0].numpy(), bins = (lines, columns),range = [[0, columns],[0,lines]])\n",
    "    figure = plt.figure(figsize = (12,8))\n",
    "    plt.tick_params(left=False,bottom=False,labelleft=False,labelbottom=False)\n",
    "    plt.imshow(torch.flip(torch.flip(torch.tensor(hist_dif_samples).T,[0,1]),[0,1]),extent = [0,columns,0, lines])"
   ]
  },
  {
   "cell_type": "code",
   "execution_count": null,
   "id": "sunset-ceramic",
   "metadata": {},
   "outputs": [],
   "source": [
    "#Run DIF\n",
    "initial_T = LocationScaleFlow(K,2)\n",
    "initial_T.m = nn.Parameter(EM.m)\n",
    "initial_T.log_s = nn.Parameter(EM.log_s)\n",
    "\n",
    "initial_w = SoftmaxWeight(K, 2, [128,128,128])\n",
    "initial_w.f[-1].bias = nn.Parameter(EM.log_pi)\n",
    "initial_w.f[-1].weight = nn.Parameter(torch.zeros(K,initial_w.network_dimensions[-2]))\n",
    "\n",
    "dif = DIFDensityEstimator(target_samples,K)\n",
    "dif.T = initial_T\n",
    "dif.w = initial_w\n",
    "\n",
    "epochs = 1000\n",
    "batch_size = 30000\n",
    "dif.train(epochs, batch_size)"
   ]
  },
  {
   "cell_type": "code",
   "execution_count": null,
   "id": "referenced-pavilion",
   "metadata": {},
   "outputs": [],
   "source": [
    "#Save dif\n",
    "filename = 'euler_dif.sav'\n",
    "torch.save(dif,filename)"
   ]
  },
  {
   "cell_type": "code",
   "execution_count": null,
   "id": "occupational-button",
   "metadata": {},
   "outputs": [],
   "source": [
    "with torch.no_grad():\n",
    "    grid = torch.cartesian_prod(torch.linspace(0,lines,2*lines),torch.linspace(0,columns, 2*columns))\n",
    "    density = torch.exp(dif.log_density(grid)).reshape(2*lines,2*columns).T\n",
    "    figure = plt.figure(figsize = (12,8))\n",
    "    plt.tick_params(left=False,bottom=False,labelleft=False,labelbottom=False)\n",
    "    plt.imshow(torch.flip(torch.flip(density.T,[0,1]),[0,1]),extent = [0,columns,0, lines])\n",
    "    dif_samples = dif.sample_model(target_samples.shape[0])\n",
    "    hist_dif_samples, x_edges, y_edges = numpy.histogram2d(dif_samples[:,1].numpy(), dif_samples[:, 0].numpy(), bins = (lines, columns),range = [[0, columns],[0,lines]])\n",
    "    figure = plt.figure(figsize = (12,8))\n",
    "    plt.tick_params(left=False,bottom=False,labelleft=False,labelbottom=False)\n",
    "    plt.imshow(torch.flip(torch.flip(torch.tensor(hist_dif_samples).T,[0,1]),[0,1]),extent = [0,columns,0, lines])"
   ]
  },
  {
   "cell_type": "code",
   "execution_count": null,
   "id": "white-ordinary",
   "metadata": {},
   "outputs": [],
   "source": []
  }
 ],
 "metadata": {
  "kernelspec": {
   "display_name": "Python 3 (ipykernel)",
   "language": "python",
   "name": "python3"
  },
  "language_info": {
   "codemirror_mode": {
    "name": "ipython",
    "version": 3
   },
   "file_extension": ".py",
   "mimetype": "text/x-python",
   "name": "python",
   "nbconvert_exporter": "python",
   "pygments_lexer": "ipython3",
   "version": "3.9.2"
  }
 },
 "nbformat": 4,
 "nbformat_minor": 5
}
