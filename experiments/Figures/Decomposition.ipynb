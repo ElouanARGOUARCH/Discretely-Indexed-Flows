{
 "cells": [
  {
   "cell_type": "code",
   "execution_count": 1,
   "id": "norman-stereo",
   "metadata": {},
   "outputs": [
    {
     "ename": "ModuleNotFoundError",
     "evalue": "No module named 'utils'",
     "output_type": "error",
     "traceback": [
      "\u001b[1;31m---------------------------------------------------------------------------\u001b[0m",
      "\u001b[1;31mModuleNotFoundError\u001b[0m                       Traceback (most recent call last)",
      "\u001b[1;32m<ipython-input-1-4a21830c2b5c>\u001b[0m in \u001b[0;36m<module>\u001b[1;34m\u001b[0m\n\u001b[0;32m      1\u001b[0m \u001b[1;32mfrom\u001b[0m \u001b[0mmodels_dif\u001b[0m \u001b[1;32mimport\u001b[0m \u001b[0mDIFDensityEstimator\u001b[0m\u001b[1;33m,\u001b[0m\u001b[0mSoftmaxWeight\u001b[0m\u001b[1;33m,\u001b[0m\u001b[0mLocationScaleFlow\u001b[0m\u001b[1;33m\u001b[0m\u001b[1;33m\u001b[0m\u001b[0m\n\u001b[0;32m      2\u001b[0m \u001b[1;32mfrom\u001b[0m \u001b[0mtargets\u001b[0m \u001b[1;32mimport\u001b[0m \u001b[0mDensityEstimationTarget\u001b[0m\u001b[1;33m\u001b[0m\u001b[1;33m\u001b[0m\u001b[0m\n\u001b[1;32m----> 3\u001b[1;33m \u001b[1;32mfrom\u001b[0m \u001b[0mutils\u001b[0m\u001b[1;33m.\u001b[0m\u001b[0mcolor_visual\u001b[0m \u001b[1;32mimport\u001b[0m \u001b[1;33m*\u001b[0m\u001b[1;33m\u001b[0m\u001b[1;33m\u001b[0m\u001b[0m\n\u001b[0m\u001b[0;32m      4\u001b[0m \u001b[1;32mimport\u001b[0m \u001b[0mtorch\u001b[0m\u001b[1;33m\u001b[0m\u001b[1;33m\u001b[0m\u001b[0m\n\u001b[0;32m      5\u001b[0m \u001b[1;32mimport\u001b[0m \u001b[0mmatplotlib\u001b[0m\u001b[1;33m.\u001b[0m\u001b[0mpyplot\u001b[0m \u001b[1;32mas\u001b[0m \u001b[0mplt\u001b[0m\u001b[1;33m\u001b[0m\u001b[1;33m\u001b[0m\u001b[0m\n",
      "\u001b[1;31mModuleNotFoundError\u001b[0m: No module named 'utils'"
     ]
    }
   ],
   "source": [
    "from models_dif import DIFDensityEstimator,SoftmaxWeight,LocationScaleFlow\n",
    "from targets import DensityEstimationTarget\n",
    "from utils.color_visual import *\n",
    "import torch\n",
    "import matplotlib.pyplot as plt\n",
    "import numpy as np\n",
    "import torch\n",
    "import matplotlib.gridspec as gridspec\n",
    "import seaborn as sns\n",
    "torch.manual_seed(0)\n",
    "from torch import nn"
   ]
  },
  {
   "cell_type": "code",
   "execution_count": null,
   "id": "adverse-martial",
   "metadata": {},
   "outputs": [],
   "source": [
    "example = \"Normalized Dimension 1\"\n",
    "num_samples = 50000\n",
    "target = DensityEstimationTarget(example, num_samples)\n",
    "target_samples = target.get_samples()\n",
    "p = target_samples.shape[-1]"
   ]
  },
  {
   "cell_type": "code",
   "execution_count": null,
   "id": "latin-teacher",
   "metadata": {},
   "outputs": [],
   "source": [
    "epochs = 4000\n",
    "batch_size = 10000\n",
    "K = 4\n",
    "initial_w = SoftmaxWeight(K,p,[4,4,4])\n",
    "initial_T = LocationScaleFlow(K,p)\n",
    "initial_T.m = nn.Parameter(torch.randn([K,p]))\n",
    "dif = DIFDensityEstimator(target_samples,K)\n",
    "dif.w = initial_w\n",
    "dif.T = initial_T\n",
    "dif.train(epochs, batch_size)"
   ]
  },
  {
   "cell_type": "code",
   "execution_count": null,
   "id": "broadband-excellence",
   "metadata": {},
   "outputs": [],
   "source": [
    "color = plt.cm.rainbow(np.linspace(0,1,K))\n",
    "tt = torch.linspace(-3.5,3.5,200).unsqueeze(-1).unsqueeze(-2).repeat(1,K,1)\n",
    "prob_w = torch.exp(dif.w.log_prob(tt))[:,0,:].detach()\n",
    "fig = plt.figure(figsize =(16,5))\n",
    "ax1 = plt.subplot(1,2,1)\n",
    "ax1.set_yticks(np.arange(0,2,1))\n",
    "ax1.set_ylim(bottom = -0.025, top = 1.05)\n",
    "tt = tt[:,0,0]\n",
    "cum = 0\n",
    "for k,c in zip(range(K), color):\n",
    "    ax1.plot(tt.cpu(), prob_w[:,k].cpu(), label = r'$w_'+str(k+1)+'$', color = c)\n",
    "ax1.legend()\n",
    "\n",
    "ax2 = plt.subplot(1,2,2, sharex = ax1)\n",
    "ax2.tick_params(left=False,bottom=True,labelleft=False,labelbottom=True)\n",
    "cum = torch.zeros([tt.shape[0]])\n",
    "for k, c in zip(range(K), color):\n",
    "    ancien_cum = cum\n",
    "    cum = cum + torch.exp(dif.reference.log_density(tt.unsqueeze(-1)))*prob_w[:,k] \n",
    "    ax2.fill_between(tt.cpu(), ancien_cum.cpu().detach().numpy(), cum.cpu().detach().numpy(), where = torch.abs(ancien_cum.cpu() - cum.cpu())>5e-4, color=c)"
   ]
  },
  {
   "cell_type": "code",
   "execution_count": null,
   "id": "expected-opposition",
   "metadata": {},
   "outputs": [],
   "source": [
    "tt_z = torch.linspace(-3.5,3.5,200).unsqueeze(-1).unsqueeze(-2).repeat(1,K,1)\n",
    "prob_w = torch.exp(dif.w.log_prob(tt_z))[:,0,:].detach()\n",
    "fig = plt.figure(figsize = (15,3))\n",
    "tt_z = tt_z[:,0,0]\n",
    "for k,c in zip(range(K),color):\n",
    "    ax = fig.add_axes([.8*k/K,.1 , .8/K,.8] ,yticklabels=[], sharey = ax2)\n",
    "    ax.tick_params(left=False,bottom=True,labelleft=False,labelbottom=True)\n",
    "    part =torch.exp(dif.reference.log_density(tt_z.unsqueeze(-1)))*prob_w[:,k] \n",
    "    ax.fill_between(tt_z.cpu(), part.cpu().detach().numpy(), color = c  )\n",
    "fig = plt.figure(figsize = (15,3))\n",
    "tt_x = torch.linspace(-12.5,12.5,200).unsqueeze(-1)\n",
    "z = dif.T.forward(tt_x)\n",
    "prob = torch.diagonal(torch.exp(dif.w.log_prob(z)),0, -2, -1)\n",
    "ref = torch.exp(dif.reference.log_density(z))\n",
    "det = torch.exp(dif.T.log_det_J(tt))\n",
    "total = prob * ref * det\n",
    "for k,c in zip(range(K),color):\n",
    "    ax = fig.add_axes([.8*k/K,.1 , .8/K,.8] ,yticklabels=[], sharey = ax2 )\n",
    "    ax.tick_params(left=False,bottom=True,labelleft=False,labelbottom=True)\n",
    "    ax.fill_between(tt_x.squeeze(-1).cpu(), total[:,k].cpu().detach().numpy(), color = c  )  \n",
    "plt.plot()\n",
    "cum = torch.zeros([tt_x.shape[0]])\n",
    "fig = plt.figure(figsize = (8,5))\n",
    "plt.tick_params(left=False,bottom=True,labelleft=False,labelbottom=True)\n",
    "for k,c in zip(range(K), color):\n",
    "    ancien_cum = cum\n",
    "    cum = cum + total[:,k]\n",
    "    plt.fill_between(tt_x.squeeze(-1).cpu(), ancien_cum.cpu().detach().numpy(), cum.cpu().detach().numpy(), where = torch.abs(ancien_cum.cpu() - cum.cpu())>5e-4, color=c)"
   ]
  },
  {
   "cell_type": "code",
   "execution_count": null,
   "id": "known-genre",
   "metadata": {},
   "outputs": [],
   "source": [
    "density_x = torch.exp(dif.log_density(tt_x))\n",
    "density_z = torch.exp(dif.reference.log_density(tt_z.unsqueeze(-1)))\n",
    "fig = plt.figure(figsize =(16,5))\n",
    "ax1 = plt.subplot(1,2,1)\n",
    "ax1.fill_between(tt_x.cpu().squeeze(-1).numpy(), density_x.cpu().detach().numpy(), color = blue_color)\n",
    "ax1.tick_params(left=False,bottom=True,labelleft=False,labelbottom=True)\n",
    "ax2 = plt.subplot(1,2,2)\n",
    "ax2.tick_params(left=False,bottom=True,labelleft=False,labelbottom=True)\n",
    "ax2.fill_between(tt_z.cpu().squeeze(-1).numpy(), density_z.cpu().detach().numpy(), color = green_color)"
   ]
  },
  {
   "cell_type": "code",
   "execution_count": null,
   "id": "15ea7b9c",
   "metadata": {},
   "outputs": [],
   "source": []
  }
 ],
 "metadata": {
  "kernelspec": {
   "display_name": "Python 3",
   "language": "python",
   "name": "python3"
  },
  "language_info": {
   "codemirror_mode": {
    "name": "ipython",
    "version": 3
   },
   "file_extension": ".py",
   "mimetype": "text/x-python",
   "name": "python",
   "nbconvert_exporter": "python",
   "pygments_lexer": "ipython3",
   "version": "3.9.2"
  }
 },
 "nbformat": 4,
 "nbformat_minor": 5
}
